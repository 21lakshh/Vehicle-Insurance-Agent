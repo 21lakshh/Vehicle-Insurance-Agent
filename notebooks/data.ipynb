{
 "cells": [
  {
   "cell_type": "code",
   "execution_count": 4,
   "id": "ea8b82d8",
   "metadata": {},
   "outputs": [],
   "source": [
    "import pandas as pd\n",
    "import numpy as np"
   ]
  },
  {
   "cell_type": "code",
   "execution_count": null,
   "id": "5a8b98df",
   "metadata": {},
   "outputs": [],
   "source": [
    "data1 = pd.read_csv(\"C:/Users/LAKSHYA PALIWAL/Vehicle-Insurance-Agent/data/car_data_20250728_032924.csv\")\n",
    "data2 = pd.read_csv(\"C:/Users/LAKSHYA PALIWAL/Vehicle-Insurance-Agent/data/car_data_20250728_100907.csv\")\n",
    "data3 = pd.read_csv(\"C:/Users/LAKSHYA PALIWAL/Vehicle-Insurance-Agent/data/car_data_20250728_101745.csv\")"
   ]
  },
  {
   "cell_type": "markdown",
   "id": "092547f2",
   "metadata": {},
   "source": []
  },
  {
   "cell_type": "code",
   "execution_count": 6,
   "id": "ef01da79",
   "metadata": {},
   "outputs": [],
   "source": [
    "df = pd.concat([data1,data2,data3], ignore_index=True)"
   ]
  },
  {
   "cell_type": "code",
   "execution_count": 12,
   "id": "0d79954b",
   "metadata": {},
   "outputs": [
    {
     "data": {
      "text/html": [
       "<div>\n",
       "<style scoped>\n",
       "    .dataframe tbody tr th:only-of-type {\n",
       "        vertical-align: middle;\n",
       "    }\n",
       "\n",
       "    .dataframe tbody tr th {\n",
       "        vertical-align: top;\n",
       "    }\n",
       "\n",
       "    .dataframe thead th {\n",
       "        text-align: right;\n",
       "    }\n",
       "</style>\n",
       "<table border=\"1\" class=\"dataframe\">\n",
       "  <thead>\n",
       "    <tr style=\"text-align: right;\">\n",
       "      <th></th>\n",
       "      <th>manufacturer</th>\n",
       "      <th>model_name</th>\n",
       "      <th>variant_name</th>\n",
       "      <th>manufacturing_year</th>\n",
       "      <th>showroom_price</th>\n",
       "      <th>fuel_type</th>\n",
       "      <th>engine_capacity_cc</th>\n",
       "      <th>body_type</th>\n",
       "      <th>seating_capacity</th>\n",
       "      <th>transmission</th>\n",
       "      <th>power_bhp</th>\n",
       "      <th>torque_nm</th>\n",
       "      <th>mileage_kmpl</th>\n",
       "      <th>safety_rating</th>\n",
       "      <th>features</th>\n",
       "    </tr>\n",
       "  </thead>\n",
       "  <tbody>\n",
       "    <tr>\n",
       "      <th>0</th>\n",
       "      <td>Tesla</td>\n",
       "      <td>Model Y</td>\n",
       "      <td>Model Y</td>\n",
       "      <td>2025</td>\n",
       "      <td>₹59.89 - 73.89 Lakh</td>\n",
       "      <td>Electric</td>\n",
       "      <td>0.0</td>\n",
       "      <td>SUV</td>\n",
       "      <td>5.0</td>\n",
       "      <td>Automatic</td>\n",
       "      <td>295 bhp</td>\n",
       "      <td>Not Available</td>\n",
       "      <td>Not Applicable</td>\n",
       "      <td>Not Available</td>\n",
       "      <td>Cruise Control, Alloy Wheels, Rear AC Vents, A...</td>\n",
       "    </tr>\n",
       "    <tr>\n",
       "      <th>1</th>\n",
       "      <td>Rolls-Royce</td>\n",
       "      <td>Phantom</td>\n",
       "      <td>Phantom</td>\n",
       "      <td>2025</td>\n",
       "      <td>₹8.99 - 10.48 Cr</td>\n",
       "      <td>Petrol</td>\n",
       "      <td>6749.0</td>\n",
       "      <td>Sedan</td>\n",
       "      <td>5.0</td>\n",
       "      <td>Automatic</td>\n",
       "      <td>563</td>\n",
       "      <td>NaN</td>\n",
       "      <td>9.8</td>\n",
       "      <td>NaN</td>\n",
       "      <td>Luxury interior, Advanced safety features, Hig...</td>\n",
       "    </tr>\n",
       "    <tr>\n",
       "      <th>2</th>\n",
       "      <td>Rolls-Royce</td>\n",
       "      <td>Cullinan</td>\n",
       "      <td>Cullinan</td>\n",
       "      <td>2025</td>\n",
       "      <td>₹10.50 - 12.25 Cr</td>\n",
       "      <td>Petrol</td>\n",
       "      <td>6750.0</td>\n",
       "      <td>SUV</td>\n",
       "      <td>5.0</td>\n",
       "      <td>Automatic</td>\n",
       "      <td>563</td>\n",
       "      <td>NaN</td>\n",
       "      <td>6.6</td>\n",
       "      <td>NaN</td>\n",
       "      <td>All-wheel drive, Luxury interior, Advanced saf...</td>\n",
       "    </tr>\n",
       "    <tr>\n",
       "      <th>3</th>\n",
       "      <td>Rolls-Royce</td>\n",
       "      <td>Spectre</td>\n",
       "      <td>Spectre</td>\n",
       "      <td>2025</td>\n",
       "      <td>₹7.50 Cr</td>\n",
       "      <td>Electric</td>\n",
       "      <td>0.0</td>\n",
       "      <td>Coupe</td>\n",
       "      <td>4.0</td>\n",
       "      <td>Automatic</td>\n",
       "      <td>576.63</td>\n",
       "      <td>NaN</td>\n",
       "      <td>NaN</td>\n",
       "      <td>NaN</td>\n",
       "      <td>Electric powertrain, Luxury interior, Advanced...</td>\n",
       "    </tr>\n",
       "    <tr>\n",
       "      <th>4</th>\n",
       "      <td>Rolls-Royce</td>\n",
       "      <td>Ghost Series II</td>\n",
       "      <td>Ghost Series II</td>\n",
       "      <td>2025</td>\n",
       "      <td>₹8.95 - 10.52 Cr</td>\n",
       "      <td>Petrol</td>\n",
       "      <td>6750.0</td>\n",
       "      <td>Sedan</td>\n",
       "      <td>5.0</td>\n",
       "      <td>Automatic</td>\n",
       "      <td>563</td>\n",
       "      <td>NaN</td>\n",
       "      <td>NaN</td>\n",
       "      <td>NaN</td>\n",
       "      <td>Luxury interior, Advanced safety features, Hig...</td>\n",
       "    </tr>\n",
       "  </tbody>\n",
       "</table>\n",
       "</div>"
      ],
      "text/plain": [
       "  manufacturer       model_name     variant_name  manufacturing_year  \\\n",
       "0        Tesla          Model Y          Model Y                2025   \n",
       "1  Rolls-Royce          Phantom          Phantom                2025   \n",
       "2  Rolls-Royce         Cullinan         Cullinan                2025   \n",
       "3  Rolls-Royce          Spectre          Spectre                2025   \n",
       "4  Rolls-Royce  Ghost Series II  Ghost Series II                2025   \n",
       "\n",
       "        showroom_price fuel_type  engine_capacity_cc body_type  \\\n",
       "0  ₹59.89 - 73.89 Lakh  Electric                 0.0       SUV   \n",
       "1     ₹8.99 - 10.48 Cr    Petrol              6749.0     Sedan   \n",
       "2    ₹10.50 - 12.25 Cr    Petrol              6750.0       SUV   \n",
       "3             ₹7.50 Cr  Electric                 0.0     Coupe   \n",
       "4     ₹8.95 - 10.52 Cr    Petrol              6750.0     Sedan   \n",
       "\n",
       "   seating_capacity transmission power_bhp      torque_nm    mileage_kmpl  \\\n",
       "0               5.0    Automatic   295 bhp  Not Available  Not Applicable   \n",
       "1               5.0    Automatic       563            NaN             9.8   \n",
       "2               5.0    Automatic       563            NaN             6.6   \n",
       "3               4.0    Automatic    576.63            NaN             NaN   \n",
       "4               5.0    Automatic       563            NaN             NaN   \n",
       "\n",
       "   safety_rating                                           features  \n",
       "0  Not Available  Cruise Control, Alloy Wheels, Rear AC Vents, A...  \n",
       "1            NaN  Luxury interior, Advanced safety features, Hig...  \n",
       "2            NaN  All-wheel drive, Luxury interior, Advanced saf...  \n",
       "3            NaN  Electric powertrain, Luxury interior, Advanced...  \n",
       "4            NaN  Luxury interior, Advanced safety features, Hig...  "
      ]
     },
     "execution_count": 12,
     "metadata": {},
     "output_type": "execute_result"
    }
   ],
   "source": [
    "df.head()"
   ]
  },
  {
   "cell_type": "code",
   "execution_count": 8,
   "id": "73eb98ff",
   "metadata": {},
   "outputs": [
    {
     "data": {
      "text/plain": [
       "(239, 15)"
      ]
     },
     "execution_count": 8,
     "metadata": {},
     "output_type": "execute_result"
    }
   ],
   "source": [
    "df.shape"
   ]
  },
  {
   "cell_type": "code",
   "execution_count": 9,
   "id": "6725fa6a",
   "metadata": {},
   "outputs": [
    {
     "name": "stdout",
     "output_type": "stream",
     "text": [
      "<class 'pandas.core.frame.DataFrame'>\n",
      "RangeIndex: 239 entries, 0 to 238\n",
      "Data columns (total 15 columns):\n",
      " #   Column              Non-Null Count  Dtype  \n",
      "---  ------              --------------  -----  \n",
      " 0   manufacturer        239 non-null    object \n",
      " 1   model_name          239 non-null    object \n",
      " 2   variant_name        237 non-null    object \n",
      " 3   manufacturing_year  239 non-null    int64  \n",
      " 4   showroom_price      239 non-null    object \n",
      " 5   fuel_type           239 non-null    object \n",
      " 6   engine_capacity_cc  237 non-null    float64\n",
      " 7   body_type           239 non-null    object \n",
      " 8   seating_capacity    238 non-null    float64\n",
      " 9   transmission        233 non-null    object \n",
      " 10  power_bhp           239 non-null    object \n",
      " 11  torque_nm           145 non-null    object \n",
      " 12  mileage_kmpl        180 non-null    object \n",
      " 13  safety_rating       146 non-null    object \n",
      " 14  features            225 non-null    object \n",
      "dtypes: float64(2), int64(1), object(12)\n",
      "memory usage: 28.1+ KB\n"
     ]
    }
   ],
   "source": [
    "df.info()"
   ]
  },
  {
   "cell_type": "code",
   "execution_count": 10,
   "id": "491b1222",
   "metadata": {},
   "outputs": [
    {
     "data": {
      "text/plain": [
       "manufacturer           0\n",
       "model_name             0\n",
       "variant_name           2\n",
       "manufacturing_year     0\n",
       "showroom_price         0\n",
       "fuel_type              0\n",
       "engine_capacity_cc     2\n",
       "body_type              0\n",
       "seating_capacity       1\n",
       "transmission           6\n",
       "power_bhp              0\n",
       "torque_nm             94\n",
       "mileage_kmpl          59\n",
       "safety_rating         93\n",
       "features              14\n",
       "dtype: int64"
      ]
     },
     "execution_count": 10,
     "metadata": {},
     "output_type": "execute_result"
    }
   ],
   "source": [
    "df.isnull().sum()"
   ]
  },
  {
   "cell_type": "code",
   "execution_count": 14,
   "id": "4ef84490",
   "metadata": {},
   "outputs": [],
   "source": [
    "df.dropna(subset=['variant_name'], inplace=True)"
   ]
  },
  {
   "cell_type": "code",
   "execution_count": 15,
   "id": "c5a73778",
   "metadata": {},
   "outputs": [
    {
     "name": "stdout",
     "output_type": "stream",
     "text": [
      "0\n"
     ]
    }
   ],
   "source": [
    "print(df['variant_name'].isnull().sum())"
   ]
  },
  {
   "cell_type": "code",
   "execution_count": 16,
   "id": "c1c41275",
   "metadata": {},
   "outputs": [
    {
     "data": {
      "text/plain": [
       "manufacturer           0\n",
       "model_name             0\n",
       "variant_name           0\n",
       "manufacturing_year     0\n",
       "showroom_price         0\n",
       "fuel_type              0\n",
       "engine_capacity_cc     2\n",
       "body_type              0\n",
       "seating_capacity       1\n",
       "transmission           6\n",
       "power_bhp              0\n",
       "torque_nm             92\n",
       "mileage_kmpl          59\n",
       "safety_rating         93\n",
       "features              14\n",
       "dtype: int64"
      ]
     },
     "execution_count": 16,
     "metadata": {},
     "output_type": "execute_result"
    }
   ],
   "source": [
    "df.isnull().sum()"
   ]
  },
  {
   "cell_type": "code",
   "execution_count": 20,
   "id": "788bed3a",
   "metadata": {},
   "outputs": [],
   "source": [
    "df.to_csv('car_dataset_combined.csv', index=True)"
   ]
  },
  {
   "cell_type": "code",
   "execution_count": null,
   "id": "f001b801",
   "metadata": {},
   "outputs": [],
   "source": []
  }
 ],
 "metadata": {
  "kernelspec": {
   "display_name": "Python 3",
   "language": "python",
   "name": "python3"
  },
  "language_info": {
   "codemirror_mode": {
    "name": "ipython",
    "version": 3
   },
   "file_extension": ".py",
   "mimetype": "text/x-python",
   "name": "python",
   "nbconvert_exporter": "python",
   "pygments_lexer": "ipython3",
   "version": "3.10.11"
  }
 },
 "nbformat": 4,
 "nbformat_minor": 5
}
