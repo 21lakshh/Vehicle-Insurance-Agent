{
 "cells": [
  {
   "cell_type": "code",
   "execution_count": 7,
   "id": "b92fb5bd",
   "metadata": {},
   "outputs": [
    {
     "name": "stderr",
     "output_type": "stream",
     "text": [
      "WARNING: Ignoring invalid distribution -rotobuf (c:\\users\\lakshya paliwal\\appdata\\local\\programs\\python\\python310\\lib\\site-packages)\n",
      "WARNING: Ignoring invalid distribution -illow (c:\\users\\lakshya paliwal\\appdata\\local\\programs\\python\\python310\\lib\\site-packages)\n",
      "WARNING: Ignoring invalid distribution -atplotlib (c:\\users\\lakshya paliwal\\appdata\\local\\programs\\python\\python310\\lib\\site-packages)\n",
      "WARNING: Ignoring invalid distribution -rotobuf (c:\\users\\lakshya paliwal\\appdata\\local\\programs\\python\\python310\\lib\\site-packages)\n",
      "WARNING: Ignoring invalid distribution -illow (c:\\users\\lakshya paliwal\\appdata\\local\\programs\\python\\python310\\lib\\site-packages)\n",
      "WARNING: Ignoring invalid distribution -atplotlib (c:\\users\\lakshya paliwal\\appdata\\local\\programs\\python\\python310\\lib\\site-packages)\n",
      "WARNING: Ignoring invalid distribution -rotobuf (c:\\users\\lakshya paliwal\\appdata\\local\\programs\\python\\python310\\lib\\site-packages)\n",
      "WARNING: Ignoring invalid distribution -illow (c:\\users\\lakshya paliwal\\appdata\\local\\programs\\python\\python310\\lib\\site-packages)\n",
      "WARNING: Ignoring invalid distribution -atplotlib (c:\\users\\lakshya paliwal\\appdata\\local\\programs\\python\\python310\\lib\\site-packages)\n",
      "WARNING: Ignoring invalid distribution -rotobuf (c:\\users\\lakshya paliwal\\appdata\\local\\programs\\python\\python310\\lib\\site-packages)\n",
      "WARNING: Ignoring invalid distribution -illow (c:\\users\\lakshya paliwal\\appdata\\local\\programs\\python\\python310\\lib\\site-packages)\n",
      "WARNING: Ignoring invalid distribution -atplotlib (c:\\users\\lakshya paliwal\\appdata\\local\\programs\\python\\python310\\lib\\site-packages)\n",
      "WARNING: Ignoring invalid distribution -rotobuf (c:\\users\\lakshya paliwal\\appdata\\local\\programs\\python\\python310\\lib\\site-packages)\n",
      "WARNING: Ignoring invalid distribution -illow (c:\\users\\lakshya paliwal\\appdata\\local\\programs\\python\\python310\\lib\\site-packages)\n",
      "WARNING: Ignoring invalid distribution -atplotlib (c:\\users\\lakshya paliwal\\appdata\\local\\programs\\python\\python310\\lib\\site-packages)\n",
      "WARNING: Ignoring invalid distribution -rotobuf (c:\\users\\lakshya paliwal\\appdata\\local\\programs\\python\\python310\\lib\\site-packages)\n",
      "WARNING: Ignoring invalid distribution -illow (c:\\users\\lakshya paliwal\\appdata\\local\\programs\\python\\python310\\lib\\site-packages)\n",
      "WARNING: Ignoring invalid distribution -atplotlib (c:\\users\\lakshya paliwal\\appdata\\local\\programs\\python\\python310\\lib\\site-packages)\n",
      "\n",
      "[notice] A new release of pip is available: 23.0.1 -> 25.1.1\n",
      "[notice] To update, run: python.exe -m pip install --upgrade pip\n"
     ]
    }
   ],
   "source": [
    "!pip install --upgrade --quiet  langchain langchain-community langchain-groq neo4j"
   ]
  },
  {
   "cell_type": "code",
   "execution_count": 38,
   "id": "d922a036",
   "metadata": {},
   "outputs": [],
   "source": [
    "## Graphdb configuration\n",
    "NEO4J_URI=\"\"\n",
    "NEO4J_USERNAME=\"\"\n",
    "NEO4J_PASSWORD=\"\""
   ]
  },
  {
   "cell_type": "code",
   "execution_count": 9,
   "id": "316753f2",
   "metadata": {},
   "outputs": [],
   "source": [
    "from langchain_community.graphs import Neo4jGraph\n",
    "graph=Neo4jGraph(\n",
    "    url=NEO4J_URI,\n",
    "    username=NEO4J_USERNAME,\n",
    "    password=NEO4J_PASSWORD,\n",
    ")"
   ]
  },
  {
   "cell_type": "code",
   "execution_count": 10,
   "id": "2761c2f8",
   "metadata": {},
   "outputs": [
    {
     "data": {
      "text/plain": [
       "<langchain_community.graphs.neo4j_graph.Neo4jGraph at 0x27be37d42b0>"
      ]
     },
     "execution_count": 10,
     "metadata": {},
     "output_type": "execute_result"
    }
   ],
   "source": [
    "graph"
   ]
  },
  {
   "cell_type": "code",
   "execution_count": 22,
   "id": "a9376438",
   "metadata": {},
   "outputs": [],
   "source": [
    "import pandas as pd"
   ]
  },
  {
   "cell_type": "code",
   "execution_count": 29,
   "id": "497c3df1",
   "metadata": {},
   "outputs": [
    {
     "name": "stdout",
     "output_type": "stream",
     "text": [
      "Loaded 100 vehicles...\n",
      "Loaded 200 vehicles...\n",
      "✅ Loaded 237 vehicles total\n"
     ]
    }
   ],
   "source": [
    "# Load CSV locally\n",
    "df = pd.read_csv('C:/Users/LAKSHYA PALIWAL/Vehicle-Insurance-Agent/data/car_dataset_combined.csv')\n",
    "\n",
    "# Load data programmatically \n",
    "def load_vehicle_data(graph, df):\n",
    "    count = 0\n",
    "    for _, row in df.iterrows():\n",
    "        features = [f.strip() for f in str(row['features']).split(',') if f.strip() and f.strip() != 'nan']\n",
    "        \n",
    "        cypher_query = \"\"\"\n",
    "        // Step 1: Find or create the nodes for categories\n",
    "        MERGE (m:Manufacturer {name: $manufacturer})\n",
    "        MERGE (bt:BodyType {name: $body_type})\n",
    "        MERGE (ft:FuelType {name: $fuel_type})\n",
    "\n",
    "        // Step 2: Find or create the unique Vehicle node and set its properties\n",
    "        MERGE (v:Vehicle {\n",
    "            manufacturer: $manufacturer,\n",
    "            model_name: $model_name,\n",
    "            variant_name: $variant_name\n",
    "        })\n",
    "        SET v.manufacturing_year = $manufacturing_year,\n",
    "            v.showroom_price = $showroom_price,\n",
    "            v.engine_capacity_cc = $engine_capacity_cc,\n",
    "            v.body_type = $body_type,\n",
    "            v.fuel_type = $fuel_type,\n",
    "            v.seating_capacity = $seating_capacity,\n",
    "            v.transmission = $transmission,\n",
    "            v.power_bhp = $power_bhp,\n",
    "            v.torque_nm = $torque_nm,\n",
    "            v.mileage_kmpl = $mileage_kmpl,\n",
    "            v.safety_rating = $safety_rating,\n",
    "            v.features = $features // Storing the list directly can still be useful\n",
    "\n",
    "        // Step 3: Connect the Vehicle to its main categories\n",
    "        MERGE (v)-[:MANUFACTURED_BY]->(m)\n",
    "        MERGE (v)-[:HAS_BODY_TYPE]->(bt)\n",
    "        MERGE (v)-[:USES_FUEL]->(ft)\n",
    "\n",
    "        // Step 4: Unwind the features list and connect each feature to the vehicle\n",
    "        WITH v // Pass the vehicle 'v' to the next part of the query\n",
    "        UNWIND $features AS feature_name\n",
    "        MERGE (f:Feature {name: feature_name})\n",
    "        MERGE (v)-[:HAS_FEATURE]->(f)\n",
    "        \"\"\"\n",
    "        \n",
    "        params = {\n",
    "            'manufacturer': str(row['manufacturer']),\n",
    "            'model_name': str(row['model_name']),\n",
    "            'variant_name': str(row['variant_name']),\n",
    "            'manufacturing_year': int(row['manufacturing_year']) if pd.notna(row['manufacturing_year']) else None,\n",
    "            'showroom_price': str(row['showroom_price']),\n",
    "            'fuel_type': str(row['fuel_type']),\n",
    "            'engine_capacity_cc': float(row['engine_capacity_cc']) if pd.notna(row['engine_capacity_cc']) and str(row['engine_capacity_cc']).replace('.','').isdigit() else None,\n",
    "            'body_type': str(row['body_type']),\n",
    "            'seating_capacity': float(row['seating_capacity']) if pd.notna(row['seating_capacity']) and str(row['seating_capacity']).replace('.','').isdigit() else None,\n",
    "            'transmission': str(row['transmission']),\n",
    "            'power_bhp': str(row['power_bhp']),\n",
    "            'torque_nm': str(row['torque_nm']),\n",
    "            'mileage_kmpl': float(row['mileage_kmpl']) if pd.notna(row['mileage_kmpl']) and str(row['mileage_kmpl']).replace('.','').isdigit() else None,\n",
    "            'safety_rating': float(row['safety_rating']) if pd.notna(row['safety_rating']) and str(row['safety_rating']).replace('.','').isdigit() else None,\n",
    "            'features': features\n",
    "        }\n",
    "        \n",
    "        graph.query(cypher_query, params)\n",
    "        count += 1\n",
    "        if count % 100 == 0:\n",
    "            print(f\"Loaded {count} vehicles...\")\n",
    "    \n",
    "    print(f\"✅ Loaded {count} vehicles total\")\n",
    "\n",
    "# Run the data loading\n",
    "load_vehicle_data(graph, df)"
   ]
  },
  {
   "cell_type": "code",
   "execution_count": 30,
   "id": "7ce6d2fe",
   "metadata": {},
   "outputs": [
    {
     "name": "stdout",
     "output_type": "stream",
     "text": [
      "Node properties:\n",
      "Vehicle {model_name: STRING, variant_name: STRING, manufacturer: STRING, manufacturing_year: INTEGER, showroom_price: STRING, fuel_type: STRING, engine_capacity_cc: FLOAT, body_type: STRING, seating_capacity: FLOAT, transmission: STRING, power_bhp: STRING, torque_nm: STRING, features: LIST, mileage_kmpl: FLOAT}\n",
      "Manufacturer {name: STRING}\n",
      "BodyType {name: STRING}\n",
      "FuelType {name: STRING}\n",
      "Feature {name: STRING}\n",
      "Relationship properties:\n",
      "\n",
      "The relationships:\n",
      "(:Vehicle)-[:MANUFACTURED_BY]->(:Manufacturer)\n",
      "(:Vehicle)-[:HAS_BODY_TYPE]->(:BodyType)\n",
      "(:Vehicle)-[:USES_FUEL]->(:FuelType)\n",
      "(:Vehicle)-[:HAS_FEATURE]->(:Feature)\n"
     ]
    }
   ],
   "source": [
    "graph.refresh_schema()\n",
    "print(graph.schema)"
   ]
  },
  {
   "cell_type": "code",
   "execution_count": null,
   "id": "12f29f6c",
   "metadata": {},
   "outputs": [],
   "source": [
    "GROQ_API_KEY = \"\" # Add your GROQ API key here "
   ]
  },
  {
   "cell_type": "code",
   "execution_count": 34,
   "id": "7db431fb",
   "metadata": {},
   "outputs": [
    {
     "data": {
      "text/plain": [
       "ChatGroq(client=<groq.resources.chat.completions.Completions object at 0x0000027BE3E8D660>, async_client=<groq.resources.chat.completions.AsyncCompletions object at 0x0000027BE6273100>, model_name='meta-llama/llama-4-scout-17b-16e-instruct', model_kwargs={}, groq_api_key=SecretStr('**********'))"
      ]
     },
     "execution_count": 34,
     "metadata": {},
     "output_type": "execute_result"
    }
   ],
   "source": [
    "from langchain_groq import ChatGroq\n",
    "llm=ChatGroq(model_name=\"meta-llama/llama-4-scout-17b-16e-instruct\",api_key=GROQ_API_KEY)\n",
    "llm"
   ]
  },
  {
   "cell_type": "code",
   "execution_count": 35,
   "id": "b7537bc4",
   "metadata": {},
   "outputs": [
    {
     "data": {
      "text/plain": [
       "GraphCypherQAChain(verbose=True, graph=<langchain_community.graphs.neo4j_graph.Neo4jGraph object at 0x0000027BE37D42B0>, cypher_generation_chain=LLMChain(verbose=False, prompt=PromptTemplate(input_variables=['question', 'schema'], input_types={}, partial_variables={}, template='Task:Generate Cypher statement to query a graph database.\\nInstructions:\\nUse only the provided relationship types and properties in the schema.\\nDo not use any other relationship types or properties that are not provided.\\nSchema:\\n{schema}\\nNote: Do not include any explanations or apologies in your responses.\\nDo not respond to any questions that might ask anything else than for you to construct a Cypher statement.\\nDo not include any text except the generated Cypher statement.\\n\\nThe question is:\\n{question}'), llm=ChatGroq(client=<groq.resources.chat.completions.Completions object at 0x0000027BE3E8D660>, async_client=<groq.resources.chat.completions.AsyncCompletions object at 0x0000027BE6273100>, model_name='meta-llama/llama-4-scout-17b-16e-instruct', model_kwargs={}, groq_api_key=SecretStr('**********')), output_parser=StrOutputParser(), llm_kwargs={}), qa_chain=LLMChain(verbose=False, prompt=PromptTemplate(input_variables=['context', 'question'], input_types={}, partial_variables={}, template=\"You are an assistant that helps to form nice and human understandable answers.\\nThe information part contains the provided information that you must use to construct an answer.\\nThe provided information is authoritative, you must never doubt it or try to use your internal knowledge to correct it.\\nMake the answer sound as a response to the question. Do not mention that you based the result on the given information.\\nHere is an example:\\n\\nQuestion: Which managers own Neo4j stocks?\\nContext:[manager:CTL LLC, manager:JANE STREET GROUP LLC]\\nHelpful Answer: CTL LLC, JANE STREET GROUP LLC owns Neo4j stocks.\\n\\nFollow this example when generating answers.\\nIf the provided information is empty, say that you don't know the answer.\\nInformation:\\n{context}\\n\\nQuestion: {question}\\nHelpful Answer:\"), llm=ChatGroq(client=<groq.resources.chat.completions.Completions object at 0x0000027BE3E8D660>, async_client=<groq.resources.chat.completions.AsyncCompletions object at 0x0000027BE6273100>, model_name='meta-llama/llama-4-scout-17b-16e-instruct', model_kwargs={}, groq_api_key=SecretStr('**********')), output_parser=StrOutputParser(), llm_kwargs={}), graph_schema='Node properties are the following:\\nVehicle {model_name: STRING, variant_name: STRING, manufacturer: STRING, manufacturing_year: INTEGER, showroom_price: STRING, fuel_type: STRING, engine_capacity_cc: FLOAT, body_type: STRING, seating_capacity: FLOAT, transmission: STRING, power_bhp: STRING, torque_nm: STRING, features: LIST, mileage_kmpl: FLOAT},Manufacturer {name: STRING},BodyType {name: STRING},FuelType {name: STRING},Feature {name: STRING}\\nRelationship properties are the following:\\n\\nThe relationships are the following:\\n(:Vehicle)-[:MANUFACTURED_BY]->(:Manufacturer),(:Vehicle)-[:HAS_BODY_TYPE]->(:BodyType),(:Vehicle)-[:USES_FUEL]->(:FuelType),(:Vehicle)-[:HAS_FEATURE]->(:Feature)', allow_dangerous_requests=True)"
      ]
     },
     "execution_count": 35,
     "metadata": {},
     "output_type": "execute_result"
    }
   ],
   "source": [
    "from langchain.chains import GraphCypherQAChain\n",
    "chain=GraphCypherQAChain.from_llm(llm=llm,graph=graph,verbose=True,allow_dangerous_requests=True)\n",
    "chain"
   ]
  },
  {
   "cell_type": "code",
   "execution_count": 36,
   "id": "f601d39d",
   "metadata": {},
   "outputs": [
    {
     "name": "stdout",
     "output_type": "stream",
     "text": [
      "\n",
      "\n",
      "\u001b[1m> Entering new GraphCypherQAChain chain...\u001b[0m\n",
      "Generated Cypher:\n",
      "\u001b[32;1m\u001b[1;3mcypher\n",
      "MATCH (v:Vehicle {model_name: 'Ghost Series II'})\n",
      "OPTIONAL MATCH (v)-[:MANUFACTURED_BY]->(m:Manufacturer)\n",
      "OPTIONAL MATCH (v)-[:HAS_BODY_TYPE]->(bt:BodyType)\n",
      "OPTIONAL MATCH (v)-[:USES_FUEL]->(ft:FuelType)\n",
      "OPTIONAL MATCH (v)-[:HAS_FEATURE]->(f:Feature)\n",
      "RETURN \n",
      "    v.model_name AS modelName,\n",
      "    v.variant_name AS variantName,\n",
      "    v.manufacturer AS manufacturer,\n",
      "    v.manufacturing_year AS manufacturingYear,\n",
      "    v.showroom_price AS showroomPrice,\n",
      "    v.fuel_type AS fuelType,\n",
      "    v.engine_capacity_cc AS engineCapacityCc,\n",
      "    v.body_type AS bodyType,\n",
      "    v.seating_capacity AS seatingCapacity,\n",
      "    v.transmission AS transmission,\n",
      "    v.power_bhp AS powerBhp,\n",
      "    v.torque_nm AS torqueNm,\n",
      "    v.features AS features,\n",
      "    v.mileage_kmpl AS mileageKmpl,\n",
      "    m.name AS manufacturerName,\n",
      "    bt.name AS bodyTypeName,\n",
      "    ft.name AS fuelTypeName,\n",
      "    collect(DISTINCT f.name) AS featuresList\n",
      "\u001b[0m\n",
      "Full Context:\n",
      "\u001b[32;1m\u001b[1;3m[{'modelName': 'Ghost Series II', 'variantName': 'Ghost Series II', 'manufacturer': 'Rolls-Royce', 'manufacturingYear': 2025, 'showroomPrice': '₹8.95 - 10.52 Cr', 'fuelType': 'Petrol', 'engineCapacityCc': 6750.0, 'bodyType': 'Sedan', 'seatingCapacity': 5.0, 'transmission': 'Automatic', 'powerBhp': '563', 'torqueNm': 'nan', 'features': ['Luxury interior', 'Advanced safety features', 'High-end infotainment system'], 'mileageKmpl': None, 'manufacturerName': 'Rolls-Royce', 'bodyTypeName': 'Sedan', 'fuelTypeName': 'Petrol', 'featuresList': ['Luxury interior', 'Advanced safety features', 'High-end infotainment system']}]\u001b[0m\n",
      "\n",
      "\u001b[1m> Finished chain.\u001b[0m\n"
     ]
    },
    {
     "data": {
      "text/plain": [
       "{'query': 'I have the Ghost Series II model tell me about it',\n",
       " 'result': 'The Ghost Series II is a Sedan model manufactured by Rolls-Royce, with a manufacturing year of 2025. It has a petrol engine with a capacity of 6750.0 cc, producing 563 bhp of power. The car features an automatic transmission and has a seating capacity of 5.0. Some of its notable features include a luxury interior, advanced safety features, and a high-end infotainment system. The showroom price of the Ghost Series II ranges from ₹8.95 to ₹10.52 Cr.'}"
      ]
     },
     "execution_count": 36,
     "metadata": {},
     "output_type": "execute_result"
    }
   ],
   "source": [
    "response=chain.invoke({\"query\": \"I have the Ghost Series II model tell me about it\"})\n",
    "response"
   ]
  },
  {
   "cell_type": "code",
   "execution_count": null,
   "id": "03512a05",
   "metadata": {},
   "outputs": [],
   "source": []
  }
 ],
 "metadata": {
  "kernelspec": {
   "display_name": "Python 3",
   "language": "python",
   "name": "python3"
  },
  "language_info": {
   "codemirror_mode": {
    "name": "ipython",
    "version": 3
   },
   "file_extension": ".py",
   "mimetype": "text/x-python",
   "name": "python",
   "nbconvert_exporter": "python",
   "pygments_lexer": "ipython3",
   "version": "3.10.11"
  }
 },
 "nbformat": 4,
 "nbformat_minor": 5
}
